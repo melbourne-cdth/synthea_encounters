{
 "cells": [
  {
   "cell_type": "markdown",
   "id": "cfa55862",
   "metadata": {},
   "source": [
    "# Using Synthea\n",
    "\n",
    "Synthea is a synthetic data set that models the population of the state of [Massachusetts](https://en.wikipedia.org/wiki/Massachusetts) in the USA. The [source code](https://github.com/synthetichealth/synthea) used to generate this data is open source and can be adopted to other populations.\n",
    "\n",
    "The data we are using is a small subset from the overall Synthea data set.\n",
    "\n",
    "In this notebook we will use [Pandas](https://pandas.pydata.org/) to read in and visualize some of the data. We are going to doing a very simple approach; much better analyses could be conducted.\n"
   ]
  },
  {
   "cell_type": "code",
   "execution_count": null,
   "id": "original-picnic",
   "metadata": {},
   "outputs": [],
   "source": [
    "import pandas as pd\n",
    "import itables\n",
    "from venn import venn\n",
    "import ipywidgets as ipw\n",
    "import os\n",
    "from IPython.display import display, clear_output, HTML\n",
    "%matplotlib inline\n",
    "\n",
    "def report_alert_frac(alerts, reference):\n",
    "    return \"%3.1f%%\"%(100*(len(alerts)/ len(reference)))\n",
    "def view_case(enc, data):\n",
    "    #clear_output()\n",
    "    rslt = \"\"\n",
    "    for k,v in data.items():\n",
    "        rslt = rslt + \"<h3>%s</h3>\\n\"%k\n",
    "        rslt = rslt + v[v[\"ENCOUNTER\"]==enc].to_html()\n",
    "        rslt = rslt +\"<hr>\\n\"\n",
    "    display(HTML(rslt))"
   ]
  },
  {
   "cell_type": "markdown",
   "id": "721de4b3",
   "metadata": {},
   "source": [
    "#### Read in the Synthea data"
   ]
  },
  {
   "cell_type": "code",
   "execution_count": null,
   "id": "civic-miracle",
   "metadata": {},
   "outputs": [],
   "source": [
    "dfs = [\"patient_encounters.csv\", 'medications.csv',  'observations.csv', 'conditions.csv', 'procedures.csv']\n",
    "encdata = {os.path.splitext(f)[0]:pd.read_csv(f) for f in dfs}\n"
   ]
  },
  {
   "cell_type": "markdown",
   "id": "4ddeac9f",
   "metadata": {},
   "source": [
    "## Examing tEMR activity\n",
    "\n",
    "In a separate activity, we designed an alert to notify physicians in outpatient clinics that they should consider ordering an [A1C test](https://en.wikipedia.org/wiki/Glycated_hemoglobin#Measurement) for the current patient as a screening for diabetes.\n",
    "\n",
    "Our alert was limited to \n",
    "\n",
    "- AGE > 45\n",
    "- BMI > 25"
   ]
  },
  {
   "cell_type": "markdown",
   "id": "558899a8",
   "metadata": {},
   "source": [
    "## What kind of encounters do we have?"
   ]
  },
  {
   "cell_type": "code",
   "execution_count": null,
   "id": "be4c4dad",
   "metadata": {},
   "outputs": [],
   "source": [
    "encdata[\"patient_encounters\"].drop_duplicates(subset='ENCOUNTER', keep='first')[\"ENCOUNTERCLASS\"].value_counts().plot.bar()"
   ]
  },
  {
   "cell_type": "markdown",
   "id": "60d5e034",
   "metadata": {},
   "source": [
    "### Before going further let us limit data to outpatient encounters\n"
   ]
  },
  {
   "cell_type": "code",
   "execution_count": null,
   "id": "ba769519",
   "metadata": {},
   "outputs": [],
   "source": [
    "encdata[\"patient_encounters\"] = encdata[\"patient_encounters\"][encdata[\"patient_encounters\"][\"ENCOUNTERCLASS\"].isin([\"wellness\", \"ambulatory\", \"outpatient\"])]\n",
    "encdata[\"patient_encounters\"].drop_duplicates(subset='ENCOUNTER', keep='first')[\"ENCOUNTERCLASS\"].value_counts().plot.bar()"
   ]
  },
  {
   "cell_type": "markdown",
   "id": "636b13cf",
   "metadata": {},
   "source": [
    "### Drop all the other data that doesn't correspond to outpatient encounters"
   ]
  },
  {
   "cell_type": "code",
   "execution_count": null,
   "id": "00ab59ab",
   "metadata": {},
   "outputs": [],
   "source": [
    "outpatientids = set(encdata[\"patient_encounters\"][\"ENCOUNTER\"])\n",
    "for k in encdata.keys():\n",
    "    if k != \"patient_encounters\":\n",
    "        df = encdata[k]\n",
    "        encdata[k] = df[df[\"ENCOUNTER\"].isin(outpatientids)]"
   ]
  },
  {
   "cell_type": "markdown",
   "id": "70580f1c",
   "metadata": {},
   "source": [
    "### What is the distribution of ages in the data set?"
   ]
  },
  {
   "cell_type": "code",
   "execution_count": null,
   "id": "1df45a45",
   "metadata": {},
   "outputs": [],
   "source": [
    "encdata[\"patient_encounters\"][\"AGE@ENC\"].plot.hist(bins=50)"
   ]
  },
  {
   "cell_type": "markdown",
   "id": "ab17bdfa",
   "metadata": {},
   "source": [
    "### What is the distribution of BMI in the data set?"
   ]
  },
  {
   "cell_type": "code",
   "execution_count": null,
   "id": "103ef446",
   "metadata": {},
   "outputs": [],
   "source": [
    "df = encdata[\"observations\"]\n",
    "df[df[\"DESCRIPTION\"]==\"Body Mass Index\"][\"VALUENUMERIC\"].plot.hist(bins=50)"
   ]
  },
  {
   "cell_type": "markdown",
   "id": "b6ace7b4",
   "metadata": {},
   "source": [
    "### Other features"
   ]
  },
  {
   "cell_type": "code",
   "execution_count": null,
   "id": "electoral-budget",
   "metadata": {},
   "outputs": [],
   "source": [
    "encdata[\"patient_encounters\"][\"RACE\"].value_counts().plot.bar()"
   ]
  },
  {
   "cell_type": "code",
   "execution_count": null,
   "id": "incredible-resistance",
   "metadata": {},
   "outputs": [],
   "source": [
    " encdata[\"patient_encounters\"][\"GENDER\"].value_counts().plot.bar()"
   ]
  },
  {
   "cell_type": "markdown",
   "id": "03fe487f",
   "metadata": {},
   "source": [
    "### Use itables to explore the data\n",
    "\n",
    "- `nan` indicates a missing value\n",
    "- The data set is too large to explore in its entirety, so I'm randomly sampling 200 rows; repeat running the cell as many times as you like or change n (but not too large). "
   ]
  },
  {
   "cell_type": "code",
   "execution_count": null,
   "id": "heard-watts",
   "metadata": {},
   "outputs": [],
   "source": [
    "@ipw.interact(k=encdata.keys(), n=(20, 1000, 20))\n",
    "def view_tables(k, n):\n",
    "    itables.show(encdata[k].sample(n=n), maxColumns=0)"
   ]
  },
  {
   "cell_type": "markdown",
   "id": "objective-occasions",
   "metadata": {},
   "source": [
    "### How many encounters and patients do we have?"
   ]
  },
  {
   "cell_type": "code",
   "execution_count": null,
   "id": "approximate-antenna",
   "metadata": {},
   "outputs": [],
   "source": [
    "len(encdata[\"patient_encounters\"]['ENCOUNTER'].unique())"
   ]
  },
  {
   "cell_type": "code",
   "execution_count": null,
   "id": "electronic-scout",
   "metadata": {},
   "outputs": [],
   "source": [
    "len(encdata[\"patient_encounters\"]['PATIENT'].unique())"
   ]
  },
  {
   "cell_type": "markdown",
   "id": "dd5ce209",
   "metadata": {},
   "source": [
    "# Simple Exploration of Cohorts and Alert Frequency\n",
    "\n",
    "The following portion of the notebook explores a (relatively) simple way to explore the cohort we would identify/alerts we would generate. This exploration ignores all temporal information (e.g., we cannot look back at at values/observations/procedures at a previous encounter).\n",
    "\n",
    "We will use [sets](https://en.wikipedia.org/wiki/Set_(mathematics)) to create unique collections of encounter IDs and then use set operations to combine these. Sets are useful because they do not contain duplicate values. Thus $\\left\\{ 1, 1, 2, 3, 3 \\right\\} = \\left\\{1, 2, 3 \\right\\}$\n",
    "\n",
    "- Union ($A \\cup B$): The set of all elements that are in $A$ OR $B$.\n",
    "- Intersecton ($A \\cap B$: The set of all elements are are in $A$ AND $B$\n",
    "- Difference ($A \\setminus B$): The set of all element that are in $A$ and are NOT in $B$\n",
    "\n",
    "#### Examples\n",
    "\n"
   ]
  },
  {
   "cell_type": "code",
   "execution_count": null,
   "id": "9e49d713",
   "metadata": {},
   "outputs": [],
   "source": [
    "A = {\"Brian\", \"Wendy\", \"Susan\", \"Daniel\"}\n",
    "B = {\"Brian\", \"Marta\", \"Matt\", \"Dennis\", \"Chris\"}\n",
    "C = {\"Daniel\", \"Javeria\", \"Kathleen\"}\n",
    "\n",
    "print(\"%s %s\"%(\"A OR B:\".ljust(20), str(A.union(B)).rjust(75)))\n",
    "\n",
    "print(\"%s %s\"%(\"A AND B:\".ljust(20), str(A.intersection(B)).rjust(75)))\n",
    "\n",
    "print(\"%s %s\"%(\"(A OR B) and NOT C:\".ljust(20), str((A.union(B)).difference(C)).rjust(75)))\n",
    "\n",
    "print(\"%s %s\"%(\"(A AND B) and NOT C:\".ljust(20), str((A.intersection(B)).difference(C)).rjust(75)))\n",
    "\n",
    "print(\"%s %s\"%(\"(A AND B) OR C:\".ljust(20), str((A.intersection(B)).union(C)).rjust(75)))"
   ]
  },
  {
   "cell_type": "markdown",
   "id": "d5fe9363",
   "metadata": {},
   "source": [
    "## What are other data we could filter on?"
   ]
  },
  {
   "cell_type": "markdown",
   "id": "41bb2ea1",
   "metadata": {},
   "source": [
    "### What are our conditions?"
   ]
  },
  {
   "cell_type": "code",
   "execution_count": null,
   "id": "95eed956",
   "metadata": {},
   "outputs": [],
   "source": [
    "cons = list(encdata[\"conditions\"][\"DESCRIPTION\"].dropna().unique())\n",
    "cons.sort()\n",
    "for c in cons:\n",
    "    print(c)"
   ]
  },
  {
   "cell_type": "markdown",
   "id": "481115c2",
   "metadata": {},
   "source": [
    "### Diabetes conditions"
   ]
  },
  {
   "cell_type": "code",
   "execution_count": null,
   "id": "practical-nutrition",
   "metadata": {},
   "outputs": [],
   "source": [
    "for d in encdata[\"conditions\"][\"DESCRIPTION\"].dropna().unique():\n",
    "    if 'diabetes' in d.lower():\n",
    "        print(d)"
   ]
  },
  {
   "cell_type": "markdown",
   "id": "e29ad12e",
   "metadata": {},
   "source": [
    "### What are our observations?"
   ]
  },
  {
   "cell_type": "code",
   "execution_count": null,
   "id": "1eb13bd9",
   "metadata": {},
   "outputs": [],
   "source": [
    "obs = list(encdata[\"observations\"][\"DESCRIPTION\"].dropna().unique())\n",
    "obs.sort()\n",
    "for o in obs:\n",
    "    print(o)"
   ]
  },
  {
   "cell_type": "markdown",
   "id": "075b5972",
   "metadata": {},
   "source": [
    "#### Potentially useful\n",
    "\n",
    "- Body mass index (BMI) [Percentile] Per age and gender\n",
    "- Glucose\n",
    "- Hemoglobin A1c/Hemoglobin.total in Blood"
   ]
  },
  {
   "cell_type": "markdown",
   "id": "438ac872",
   "metadata": {},
   "source": [
    "### What are our medications?"
   ]
  },
  {
   "cell_type": "code",
   "execution_count": null,
   "id": "8e5cb707",
   "metadata": {},
   "outputs": [],
   "source": [
    "meds = list(encdata[\"medications\"][\"DESCRIPTION\"].dropna().unique())\n",
    "meds.sort()\n",
    "for m in meds:\n",
    "    print(m)"
   ]
  },
  {
   "cell_type": "code",
   "execution_count": null,
   "id": "5aadf698",
   "metadata": {},
   "outputs": [],
   "source": [
    "for m in encdata[\"medications\"][\"DESCRIPTION\"].dropna().unique():\n",
    "    if 'insul' in m.lower():\n",
    "        print(m)"
   ]
  },
  {
   "cell_type": "markdown",
   "id": "a57414e4",
   "metadata": {},
   "source": [
    "### What are our procedures?"
   ]
  },
  {
   "cell_type": "code",
   "execution_count": null,
   "id": "ceae60c8",
   "metadata": {},
   "outputs": [],
   "source": [
    "pros = list(encdata[\"procedures\"][\"DESCRIPTION\"].dropna().unique())\n",
    "pros.sort()\n",
    "for p in pros:\n",
    "    print(p)"
   ]
  },
  {
   "cell_type": "code",
   "execution_count": null,
   "id": "badb4654",
   "metadata": {},
   "outputs": [],
   "source": [
    "for p in encdata[\"procedures\"][\"DESCRIPTION\"].dropna().unique():\n",
    "    if 'diabetes' in p.lower():\n",
    "        print(p)"
   ]
  },
  {
   "cell_type": "markdown",
   "id": "c327b245",
   "metadata": {},
   "source": [
    "## Create a set with all encounters"
   ]
  },
  {
   "cell_type": "code",
   "execution_count": null,
   "id": "a4d4ae4f",
   "metadata": {},
   "outputs": [],
   "source": [
    "all_enc = set(encdata[\"patient_encounters\"][\"ENCOUNTER\"])"
   ]
  },
  {
   "cell_type": "markdown",
   "id": "f699ef2c",
   "metadata": {},
   "source": [
    "## Potential exclusions"
   ]
  },
  {
   "cell_type": "code",
   "execution_count": null,
   "id": "f1156928",
   "metadata": {},
   "outputs": [],
   "source": [
    "diabetes_conds= [\n",
    "\"Diabetes\",\n",
    "\"Neuropathy due to type 2 diabetes mellitus (disorder)\",\n",
    "\"Diabetic retinopathy associated with type II diabetes mellitus (disorder)\",\n",
    "\"Nonproliferative diabetic retinopathy due to type 2 diabetes mellitus (disorder)\",\n",
    "\"Microalbuminuria due to type 2 diabetes mellitus (disorder)\",\n",
    "\"Macular edema and retinopathy due to type 2 diabetes mellitus (disorder)\",\n",
    "\"Proliferative diabetic retinopathy due to type II diabetes mellitus (disorder)\"\n",
    "]\n",
    "\n",
    "insulin = [\n",
    "\"insulin human  isophane 70 UNT/ML / Regular Insulin  Human 30 UNT/ML Injectable Suspension [Humulin]\",\n",
    "\"Insulin Lispro 100 UNT/ML Injectable Solution [Humalog]\"\n",
    "]\n",
    "\n",
    "screen = [\"Urine screening test for diabetes\"]"
   ]
  },
  {
   "cell_type": "code",
   "execution_count": null,
   "id": "26eddc2c",
   "metadata": {},
   "outputs": [],
   "source": [
    "df = encdata[\"conditions\"]\n",
    "diabetes = set(df[df[\"DESCRIPTION\"].isin(diabetes_conds)][\"ENCOUNTER\"])\n"
   ]
  },
  {
   "cell_type": "markdown",
   "id": "8f93e9cf",
   "metadata": {},
   "source": [
    "## Potential inclusions"
   ]
  },
  {
   "cell_type": "code",
   "execution_count": null,
   "id": "eda6cd7c",
   "metadata": {},
   "outputs": [],
   "source": [
    "df = encdata[\"patient_encounters\"]\n",
    "age_o = set(df[df[\"AGE@ENC\"]>= 45][\"ENCOUNTER\"]) # old age 😀\n",
    "df = encdata[\"observations\"]\n",
    "bmi_h = set(df[(df['DESCRIPTION']=='Body Mass Index') & (df['VALUENUMERIC']>25)][\"ENCOUNTER\"])\n",
    "df = encdata[\"conditions\"]\n",
    "hyperlipidemia = set(df[(df['DESCRIPTION']=='Hyperlipidemia')][\"ENCOUNTER\"])"
   ]
  },
  {
   "cell_type": "code",
   "execution_count": null,
   "id": "3385f69b",
   "metadata": {},
   "outputs": [],
   "source": [
    "len(bmi_h), len(age_o), len(diabetes), len(hyperlipidemia)"
   ]
  },
  {
   "cell_type": "markdown",
   "id": "7cf1eb9d",
   "metadata": {},
   "source": [
    "### How do these features/sets relate to each other?\n",
    "\n",
    "- Use a Venn Diagram to visualize\n",
    "- __Note__: ellipses are not scaled by the set size"
   ]
  },
  {
   "cell_type": "code",
   "execution_count": null,
   "id": "4b576d71",
   "metadata": {},
   "outputs": [],
   "source": [
    "features = {\"diabetes\":diabetes, \"age\":age_o, \"bmi\":bmi_h, \"hyperlipidemia\":hyperlipidemia}\n",
    "venn(features)"
   ]
  },
  {
   "cell_type": "markdown",
   "id": "a3d5b7ea",
   "metadata": {},
   "source": [
    "### Let's generate a variety of alerts and see how they work\n",
    "\n",
    "- We will evaluate peformance by the percentage of encounters that generate an alert"
   ]
  },
  {
   "cell_type": "markdown",
   "id": "ed285578",
   "metadata": {},
   "source": [
    "#### Our original alert"
   ]
  },
  {
   "cell_type": "code",
   "execution_count": null,
   "id": "ca944002",
   "metadata": {},
   "outputs": [],
   "source": [
    "a0 = bmi_h.union(age_o)\n",
    "report_alert_frac(a0, all_enc)"
   ]
  },
  {
   "cell_type": "markdown",
   "id": "e7b7f080",
   "metadata": {},
   "source": [
    "#### Let's generate an alert for everyone over 45 OR (union) with a BMI > 25 that does NOT have a diabetes condition\""
   ]
  },
  {
   "cell_type": "code",
   "execution_count": null,
   "id": "6c08ae11",
   "metadata": {},
   "outputs": [],
   "source": [
    "a1 = bmi_h.union(age_o).difference(diabetes)\n",
    "report_alert_frac(a1, all_enc)"
   ]
  },
  {
   "cell_type": "markdown",
   "id": "370b89fe",
   "metadata": {},
   "source": [
    "### How about AND (intersection) instead of OR?"
   ]
  },
  {
   "cell_type": "code",
   "execution_count": null,
   "id": "35696a34",
   "metadata": {},
   "outputs": [],
   "source": [
    "a2 = bmi_h.intersection(age_o).difference(diabetes)\n",
    "report_alert_frac(a2, all_enc)"
   ]
  },
  {
   "cell_type": "markdown",
   "id": "6dc307a1",
   "metadata": {},
   "source": [
    "## View the alerted cases"
   ]
  },
  {
   "cell_type": "code",
   "execution_count": null,
   "id": "15f47e3a",
   "metadata": {},
   "outputs": [],
   "source": [
    "ipw.interact(view_case, data = ipw.fixed(encdata), enc=a2)\n"
   ]
  },
  {
   "cell_type": "markdown",
   "id": "6eb6f32c",
   "metadata": {},
   "source": [
    "## Create your own and explore"
   ]
  },
  {
   "cell_type": "code",
   "execution_count": null,
   "id": "a94ad8e6",
   "metadata": {},
   "outputs": [],
   "source": []
  }
 ],
 "metadata": {
  "@webio": {
   "lastCommId": null,
   "lastKernelId": null
  },
  "kernelspec": {
   "display_name": "Python 3",
   "language": "python",
   "name": "python3"
  },
  "language_info": {
   "codemirror_mode": {
    "name": "ipython",
    "version": 3
   },
   "file_extension": ".py",
   "mimetype": "text/x-python",
   "name": "python",
   "nbconvert_exporter": "python",
   "pygments_lexer": "ipython3",
   "version": "3.8.2"
  }
 },
 "nbformat": 4,
 "nbformat_minor": 5
}
