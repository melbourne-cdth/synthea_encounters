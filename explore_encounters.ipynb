{
 "cells": [
  {
   "cell_type": "markdown",
   "id": "7c3becc8",
   "metadata": {},
   "source": [
    "# Using Synthea\n",
    "\n",
    "Synthea is a synthetic data set that models the population of the state of [Massachusetts](https://en.wikipedia.org/wiki/Massachusetts) in the USA. The [source code](https://github.com/synthetichealth/synthea) used to generate this data is open source and can be adopted to other populations.\n",
    "\n",
    "The data we are using is a small subset from the overall Synthea data set.\n",
    "\n",
    "In this notebook we will use [Pandas](https://pandas.pydata.org/) to read in and visualize some of the data. We are going to doing a very simple approach; much better analyses could be conducted.\n"
   ]
  },
  {
   "cell_type": "code",
   "execution_count": null,
   "id": "original-picnic",
   "metadata": {},
   "outputs": [],
   "source": [
    "import pandas as pd\n",
    "import itables\n",
    "from venn import venn\n",
    "%matplotlib inline\n",
    "\n",
    "def report_alert_frac(alerts, reference):\n",
    "    return \"%3.1f%%\"%(100*(len(alerts)/ len(reference)))"
   ]
  },
  {
   "cell_type": "markdown",
   "id": "19b3ac21",
   "metadata": {},
   "source": [
    "#### Read in the Synthea data"
   ]
  },
  {
   "cell_type": "code",
   "execution_count": null,
   "id": "civic-miracle",
   "metadata": {},
   "outputs": [],
   "source": [
    "encdata = pd.read_csv(\"encounters.csv.gz\")\n",
    "encdata.shape # how many observations and variables we have"
   ]
  },
  {
   "cell_type": "markdown",
   "id": "f04ffa9a",
   "metadata": {},
   "source": [
    "## Examing tEMR activity\n",
    "\n",
    "In a separate activity, we designed an alert to notify physicians in outpatient clinics that they should consider ordering an [A1C test](https://en.wikipedia.org/wiki/Glycated_hemoglobin#Measurement) for the current patient as a screening for diabetes.\n",
    "\n",
    "Our alert was limited to \n",
    "\n",
    "- AGE > 45\n",
    "- BMI > 25"
   ]
  },
  {
   "cell_type": "markdown",
   "id": "809351f4",
   "metadata": {},
   "source": [
    "## What kind of encounters do we have?"
   ]
  },
  {
   "cell_type": "code",
   "execution_count": null,
   "id": "1d38065c",
   "metadata": {},
   "outputs": [],
   "source": [
    "encdata.drop_duplicates(subset='Id_ENC', keep='first')[\"ENCOUNTERCLASS\"].value_counts().plot.bar()"
   ]
  },
  {
   "cell_type": "markdown",
   "id": "96608a83",
   "metadata": {},
   "source": [
    "### Before going further let us limit data to outpatient encounters\n"
   ]
  },
  {
   "cell_type": "code",
   "execution_count": null,
   "id": "477cb056",
   "metadata": {},
   "outputs": [],
   "source": [
    "encdata = encdata[encdata[\"ENCOUNTERCLASS\"].isin([\"wellness\", \"ambulatory\", \"outpatient\"])]\n",
    "encdata.drop_duplicates(subset='Id_ENC', keep='first')[\"ENCOUNTERCLASS\"].value_counts().plot.bar()"
   ]
  },
  {
   "cell_type": "markdown",
   "id": "d6bf349b",
   "metadata": {},
   "source": [
    "### What is the distribution of ages in the data set?"
   ]
  },
  {
   "cell_type": "code",
   "execution_count": null,
   "id": "bottom-lighter",
   "metadata": {},
   "outputs": [],
   "source": [
    "encdata.drop_duplicates(subset='Id_ENC', keep='first')[\"AGE@ENC\"].plot.hist(bins=50)"
   ]
  },
  {
   "cell_type": "markdown",
   "id": "4fb92967",
   "metadata": {},
   "source": [
    "### What is the distribution of BMI in the data set?"
   ]
  },
  {
   "cell_type": "code",
   "execution_count": null,
   "id": "3b6699fe",
   "metadata": {},
   "outputs": [],
   "source": [
    "encdata[encdata[\"DESCRIPTION_OBS\"]==\"Body Mass Index\"].drop_duplicates(subset='Id_ENC', keep='first')[\"VALUENUMERIC\"].plot.hist(bins=50)"
   ]
  },
  {
   "cell_type": "markdown",
   "id": "029ba3ce",
   "metadata": {},
   "source": [
    "### Other features"
   ]
  },
  {
   "cell_type": "code",
   "execution_count": null,
   "id": "electoral-budget",
   "metadata": {},
   "outputs": [],
   "source": [
    "encdata.drop_duplicates(subset='Id_ENC', keep='first')[\"RACE\"].value_counts().plot.bar()"
   ]
  },
  {
   "cell_type": "code",
   "execution_count": null,
   "id": "incredible-resistance",
   "metadata": {},
   "outputs": [],
   "source": [
    "encdata.drop_duplicates(subset='Id_ENC', keep='first')[\"GENDER\"].value_counts().plot.bar()"
   ]
  },
  {
   "cell_type": "markdown",
   "id": "c20f42f6",
   "metadata": {},
   "source": [
    "### Use itables to explore the data\n",
    "\n",
    "- `nan` indicates a missing value\n",
    "- The data set is too large to explore in its entirety, so I'm randomly sampling 200 rows; repeat running the cell as many times as you like or change n (but not too large). "
   ]
  },
  {
   "cell_type": "code",
   "execution_count": null,
   "id": "heard-watts",
   "metadata": {},
   "outputs": [],
   "source": [
    "itables.show(encdata.sample(n=200), maxColumns=0)"
   ]
  },
  {
   "cell_type": "markdown",
   "id": "objective-occasions",
   "metadata": {},
   "source": [
    "### How many encounters and patients do we have?"
   ]
  },
  {
   "cell_type": "code",
   "execution_count": null,
   "id": "approximate-antenna",
   "metadata": {},
   "outputs": [],
   "source": [
    "len(encdata['Id_ENC'].unique())"
   ]
  },
  {
   "cell_type": "code",
   "execution_count": null,
   "id": "electronic-scout",
   "metadata": {},
   "outputs": [],
   "source": [
    "len(encdata['PATIENT'].unique())"
   ]
  },
  {
   "cell_type": "markdown",
   "id": "inappropriate-albert",
   "metadata": {},
   "source": [
    "### Select BMI Data\n",
    "\n",
    "Limit data to encounters with a BMI observation"
   ]
  },
  {
   "cell_type": "code",
   "execution_count": null,
   "id": "provincial-notebook",
   "metadata": {},
   "outputs": [],
   "source": [
    "bmi=encdata[encdata['DESCRIPTION_OBS']=='Body Mass Index']"
   ]
  },
  {
   "cell_type": "code",
   "execution_count": null,
   "id": "35645987",
   "metadata": {},
   "outputs": [],
   "source": [
    "from collections import Counter\n",
    "cs = Counter(bmi.Id_ENC)\n",
    "cs.most_common(10)"
   ]
  },
  {
   "cell_type": "code",
   "execution_count": null,
   "id": "2df1eaca",
   "metadata": {},
   "outputs": [],
   "source": [
    "itables.show(bmi[bmi.Id_ENC=='8a3a36ec-980e-449e-b21c-2b73c8980cd3'], maxColumns=0)"
   ]
  },
  {
   "cell_type": "code",
   "execution_count": null,
   "id": "spatial-occurrence",
   "metadata": {},
   "outputs": [],
   "source": [
    "itables.show(bmi.sample(n=100), maxColumns=0)"
   ]
  },
  {
   "cell_type": "markdown",
   "id": "d2a5fa02",
   "metadata": {},
   "source": [
    "### Make sure there are not any duplicate encounters"
   ]
  },
  {
   "cell_type": "code",
   "execution_count": null,
   "id": "magnetic-deviation",
   "metadata": {},
   "outputs": [],
   "source": [
    "bmi = bmi.drop_duplicates(subset='Id_ENC', keep='first')\n",
    "bmi.shape"
   ]
  },
  {
   "cell_type": "markdown",
   "id": "brief-gamma",
   "metadata": {},
   "source": [
    "## Filter based on our alert\n",
    "\n",
    "- Within Pandas we can combine conditions with\n",
    "    - __|__: OR\n",
    "    - __&__: AND"
   ]
  },
  {
   "cell_type": "code",
   "execution_count": null,
   "id": "amber-motor",
   "metadata": {},
   "outputs": [],
   "source": [
    "alerts = bmi[(bmi[\"AGE@ENC\"]>45 ) | (bmi[\"VALUENUMERIC\"]>25)]\n",
    "itables.show(alerts, maxBytes=0)"
   ]
  },
  {
   "cell_type": "markdown",
   "id": "american-cyprus",
   "metadata": {},
   "source": [
    "## What Fraction of the Encounters Generate Our Alert?\n",
    "\n",
    "- We will use the shape of the data frames to get the proportion"
   ]
  },
  {
   "cell_type": "code",
   "execution_count": null,
   "id": "celtic-narrative",
   "metadata": {},
   "outputs": [],
   "source": [
    "alerts.shape[0]/encdata.drop_duplicates(subset='Id_ENC', keep='first').shape[0]"
   ]
  },
  {
   "cell_type": "code",
   "execution_count": null,
   "id": "4b82d837",
   "metadata": {},
   "outputs": [],
   "source": [
    "encdata.drop_duplicates(subset='Id_ENC', keep='first').shape[0], bmi.shape[0]"
   ]
  },
  {
   "cell_type": "markdown",
   "id": "monthly-manchester",
   "metadata": {},
   "source": [
    "### How Many Unique Patients Did We Generate an Alert for?"
   ]
  },
  {
   "cell_type": "code",
   "execution_count": null,
   "id": "trained-installation",
   "metadata": {},
   "outputs": [],
   "source": [
    "len(alerts[\"PATIENT\"].unique())"
   ]
  },
  {
   "cell_type": "markdown",
   "id": "837dbad4",
   "metadata": {},
   "source": [
    "## What are other data we could filter on?"
   ]
  },
  {
   "cell_type": "markdown",
   "id": "62eb677a",
   "metadata": {},
   "source": [
    "### What are our conditions?"
   ]
  },
  {
   "cell_type": "code",
   "execution_count": null,
   "id": "0b12b047",
   "metadata": {},
   "outputs": [],
   "source": [
    "cons = list(encdata[\"DESCRIPTION_CON\"].dropna().unique())\n",
    "cons.sort()\n",
    "for c in cons:\n",
    "    print(c)"
   ]
  },
  {
   "cell_type": "markdown",
   "id": "aa49c2ba",
   "metadata": {},
   "source": [
    "### Diabetes conditions"
   ]
  },
  {
   "cell_type": "code",
   "execution_count": null,
   "id": "practical-nutrition",
   "metadata": {},
   "outputs": [],
   "source": [
    "for d in encdata[\"DESCRIPTION_CON\"].dropna().unique():\n",
    "    if 'diabetes' in d.lower():\n",
    "        print(d)"
   ]
  },
  {
   "cell_type": "markdown",
   "id": "46f6bf9a",
   "metadata": {},
   "source": [
    "### What are our observations?"
   ]
  },
  {
   "cell_type": "code",
   "execution_count": null,
   "id": "165c319d",
   "metadata": {},
   "outputs": [],
   "source": [
    "obs = list(encdata[\"DESCRIPTION_OBS\"].dropna().unique())\n",
    "obs.sort()\n",
    "for o in obs:\n",
    "    print(o)"
   ]
  },
  {
   "cell_type": "markdown",
   "id": "ebe8acff",
   "metadata": {},
   "source": [
    "#### Potentially useful\n",
    "\n",
    "- Body mass index (BMI) [Percentile] Per age and gender\n",
    "- Glucose\n",
    "- Hemoglobin A1c/Hemoglobin.total in Blood"
   ]
  },
  {
   "cell_type": "markdown",
   "id": "1d433131",
   "metadata": {},
   "source": [
    "### What are our medications?"
   ]
  },
  {
   "cell_type": "code",
   "execution_count": null,
   "id": "2324ecb0",
   "metadata": {},
   "outputs": [],
   "source": [
    "meds = list(encdata[\"DESCRIPTION_MED\"].dropna().unique())\n",
    "meds.sort()\n",
    "for m in meds:\n",
    "    print(m)"
   ]
  },
  {
   "cell_type": "code",
   "execution_count": null,
   "id": "f1a79a91",
   "metadata": {},
   "outputs": [],
   "source": [
    "for m in encdata[\"DESCRIPTION_MED\"].dropna().unique():\n",
    "    if 'insul' in m.lower():\n",
    "        print(m)"
   ]
  },
  {
   "cell_type": "markdown",
   "id": "bc56cc9b",
   "metadata": {},
   "source": [
    "### What are our procedures?"
   ]
  },
  {
   "cell_type": "code",
   "execution_count": null,
   "id": "f6fe6184",
   "metadata": {},
   "outputs": [],
   "source": [
    "pros = list(encdata[\"DESCRIPTION_PRO\"].dropna().unique())\n",
    "pros.sort()\n",
    "for p in pros:\n",
    "    print(p)"
   ]
  },
  {
   "cell_type": "code",
   "execution_count": null,
   "id": "2241b9a1",
   "metadata": {},
   "outputs": [],
   "source": [
    "for p in encdata[\"DESCRIPTION_PRO\"].dropna().unique():\n",
    "    if 'diabetes' in p.lower():\n",
    "        print(p)"
   ]
  },
  {
   "cell_type": "markdown",
   "id": "3630b0b1",
   "metadata": {},
   "source": [
    "# Simple Exploration of Cohorts and Alert Frequency\n",
    "\n",
    "The following portion of the notebook explores a (relatively) simple way to explore the cohort we would identify/alerts we would generate. This exploration ignores all temporal information (e.g., we cannot look back at at values/observations/procedures at a previous encounter).\n",
    "\n",
    "We will use [sets](https://en.wikipedia.org/wiki/Set_(mathematics)) to create unique collections of encounter IDs and then use set operations to combine these. Sets are useful because they do not contain duplicate values. Thus $\\left\\{ 1, 1, 2, 3, 3 \\right\\} = \\left\\{1, 2, 3 \\right\\}$\n",
    "\n",
    "- Union ($A \\cup B$): The set of all elements that are in $A$ OR $B$.\n",
    "- Intersecton ($A \\cap B$: The set of all elements are are in $A$ AND $B$\n",
    "- Difference ($A \\setminus B$): The set of all element that are in $A$ and are NOT in $B$\n",
    "\n",
    "#### Examples\n",
    "\n"
   ]
  },
  {
   "cell_type": "code",
   "execution_count": null,
   "id": "177a9e09",
   "metadata": {},
   "outputs": [],
   "source": [
    "A = {\"Brian\", \"Wendy\", \"Susan\", \"Daniel\"}\n",
    "B = {\"Brian\", \"Marta\", \"Matt\", \"Dennis\", \"Chris\"}\n",
    "C = {\"Daniel\", \"Javeria\", \"Kathleen\"}"
   ]
  },
  {
   "cell_type": "code",
   "execution_count": null,
   "id": "ce5f0b93",
   "metadata": {},
   "outputs": [],
   "source": [
    "A.union(B)"
   ]
  },
  {
   "cell_type": "code",
   "execution_count": null,
   "id": "82f831dd",
   "metadata": {},
   "outputs": [],
   "source": [
    "A.intersection(B)"
   ]
  },
  {
   "cell_type": "code",
   "execution_count": null,
   "id": "58522195",
   "metadata": {},
   "outputs": [],
   "source": [
    "(A.union(B)).difference(C)"
   ]
  },
  {
   "cell_type": "code",
   "execution_count": null,
   "id": "9c62b94d",
   "metadata": {},
   "outputs": [],
   "source": [
    "(A.intersection(B)).difference(C)"
   ]
  },
  {
   "cell_type": "code",
   "execution_count": null,
   "id": "8eafe59c",
   "metadata": {},
   "outputs": [],
   "source": [
    "(A.intersection(B)).union(C)"
   ]
  },
  {
   "cell_type": "markdown",
   "id": "be0e04cd",
   "metadata": {},
   "source": [
    "## Create a set with all encounters"
   ]
  },
  {
   "cell_type": "code",
   "execution_count": null,
   "id": "c9243d46",
   "metadata": {},
   "outputs": [],
   "source": [
    "all_enc = set(encdata[\"Id_ENC\"])"
   ]
  },
  {
   "cell_type": "markdown",
   "id": "96006598",
   "metadata": {},
   "source": [
    "## Potential exclusions"
   ]
  },
  {
   "cell_type": "code",
   "execution_count": null,
   "id": "afe477b7",
   "metadata": {},
   "outputs": [],
   "source": [
    "diabetes_conds= [\n",
    "\"Diabetes\",\n",
    "\"Neuropathy due to type 2 diabetes mellitus (disorder)\",\n",
    "\"Diabetic retinopathy associated with type II diabetes mellitus (disorder)\",\n",
    "\"Nonproliferative diabetic retinopathy due to type 2 diabetes mellitus (disorder)\",\n",
    "\"Microalbuminuria due to type 2 diabetes mellitus (disorder)\",\n",
    "\"Macular edema and retinopathy due to type 2 diabetes mellitus (disorder)\",\n",
    "\"Proliferative diabetic retinopathy due to type II diabetes mellitus (disorder)\"\n",
    "]\n",
    "\n",
    "insulin = [\n",
    "\"insulin human  isophane 70 UNT/ML / Regular Insulin  Human 30 UNT/ML Injectable Suspension [Humulin]\",\n",
    "\"Insulin Lispro 100 UNT/ML Injectable Solution [Humalog]\"\n",
    "]\n",
    "\n",
    "screen = [\"Urine screening test for diabetes\"]"
   ]
  },
  {
   "cell_type": "code",
   "execution_count": null,
   "id": "978cad82",
   "metadata": {},
   "outputs": [],
   "source": [
    "diabetes_patients = set(encdata[encdata[\"DESCRIPTION_CON\"].isin(diabetes_conds)][\"PATIENT\"])\n",
    "diabetes = set(encdata[encdata[\"PATIENT\"].isin(diabetes_patients)][\"Id_ENC\"])"
   ]
  },
  {
   "cell_type": "markdown",
   "id": "6524d884",
   "metadata": {},
   "source": [
    "## Potential inclusions"
   ]
  },
  {
   "cell_type": "code",
   "execution_count": null,
   "id": "9702f3fa",
   "metadata": {},
   "outputs": [],
   "source": [
    "age_o = set(encdata[encdata[\"AGE@ENC\"]>= 45][\"Id_ENC\"]) # old age 😀\n",
    "bmi_h = set(encdata[(encdata['DESCRIPTION_OBS']=='Body Mass Index') & (encdata['VALUENUMERIC']>25)][\"Id_ENC\"])\n",
    "hyperlipidemia = set(encdata[(encdata['DESCRIPTION_CON']=='Hyperlipidemia')][\"Id_ENC\"])"
   ]
  },
  {
   "cell_type": "code",
   "execution_count": null,
   "id": "cfb7ec68",
   "metadata": {},
   "outputs": [],
   "source": [
    "len(bmi_h), len(age_o), len(diabetes), len(hyperlipidemia)"
   ]
  },
  {
   "cell_type": "markdown",
   "id": "79d4274d",
   "metadata": {},
   "source": [
    "### How do these features/sets relate to each other?\n",
    "\n",
    "- Use a Venn Diagram to visualize\n",
    "- __Note__: ellipses are not scaled by the set size"
   ]
  },
  {
   "cell_type": "code",
   "execution_count": null,
   "id": "1974c3fb",
   "metadata": {},
   "outputs": [],
   "source": [
    "features = {\"diabetes\":diabetes, \"age\":age_o, \"bmi\":bmi_h, \"hyperlipidemia\":hyperlipidemia}\n",
    "venn(features)"
   ]
  },
  {
   "cell_type": "markdown",
   "id": "42ee30e8",
   "metadata": {},
   "source": [
    "### Let's generate a variety of alerts and see how they work\n",
    "\n",
    "- We will evaluate peformance by the percentage of encounters that generate an alert"
   ]
  },
  {
   "cell_type": "markdown",
   "id": "3eab6b42",
   "metadata": {},
   "source": [
    "#### Are original alert"
   ]
  },
  {
   "cell_type": "code",
   "execution_count": null,
   "id": "f99a8ce7",
   "metadata": {},
   "outputs": [],
   "source": [
    "a0 = bmi_h.union(age_o)\n",
    "report_alert_frac(a0, all_enc)"
   ]
  },
  {
   "cell_type": "markdown",
   "id": "e1316b4e",
   "metadata": {},
   "source": [
    "#### Let's generate an alert for everyone over 45 OR (union) with a BMI > 25 that does NOT have a diabetes condition\""
   ]
  },
  {
   "cell_type": "code",
   "execution_count": null,
   "id": "eaf3853a",
   "metadata": {},
   "outputs": [],
   "source": [
    "a1 = bmi_h.union(age_o).difference(diabetes)\n",
    "report_alert_frac(a1, all_enc)"
   ]
  },
  {
   "cell_type": "markdown",
   "id": "a17d1d69",
   "metadata": {},
   "source": [
    "### How about AND (intersection) instead of OR?"
   ]
  },
  {
   "cell_type": "code",
   "execution_count": null,
   "id": "f2d42ef5",
   "metadata": {},
   "outputs": [],
   "source": [
    "a2 = bmi_h.intersection(age_o).difference(diabetes)\n",
    "report_alert_frac(a2, all_enc)"
   ]
  },
  {
   "cell_type": "code",
   "execution_count": null,
   "id": "dc431afd",
   "metadata": {},
   "outputs": [],
   "source": [
    "len(all_enc.difference(dia))"
   ]
  },
  {
   "cell_type": "code",
   "execution_count": null,
   "id": "4c3e3b2b",
   "metadata": {},
   "outputs": [],
   "source": [
    "num_diabetes_patients = len(encdata[encdata[\"Id_ENC\"].isin(diabetes)][\"PATIENT\"].unique())"
   ]
  },
  {
   "cell_type": "code",
   "execution_count": null,
   "id": "28b105f6",
   "metadata": {},
   "outputs": [],
   "source": [
    "num_diabetes_patients / len(encdata[\"PATIENT\"].unique())"
   ]
  },
  {
   "cell_type": "code",
   "execution_count": null,
   "id": "5796f44c",
   "metadata": {},
   "outputs": [],
   "source": []
  }
 ],
 "metadata": {
  "@webio": {
   "lastCommId": null,
   "lastKernelId": null
  },
  "kernelspec": {
   "display_name": "Python 3",
   "language": "python",
   "name": "python3"
  },
  "language_info": {
   "codemirror_mode": {
    "name": "ipython",
    "version": 3
   },
   "file_extension": ".py",
   "mimetype": "text/x-python",
   "name": "python",
   "nbconvert_exporter": "python",
   "pygments_lexer": "ipython3",
   "version": "3.8.2"
  }
 },
 "nbformat": 4,
 "nbformat_minor": 5
}
