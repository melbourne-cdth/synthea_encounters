{
 "cells": [
  {
   "cell_type": "code",
   "execution_count": null,
   "id": "original-picnic",
   "metadata": {},
   "outputs": [],
   "source": [
    "import pandas as pd\n",
    "%matplotlib inline"
   ]
  },
  {
   "cell_type": "code",
   "execution_count": null,
   "id": "civic-miracle",
   "metadata": {},
   "outputs": [],
   "source": [
    "encdata = pd.read_csv(\"encounters.csv.gz\")"
   ]
  },
  {
   "cell_type": "code",
   "execution_count": null,
   "id": "bottom-lighter",
   "metadata": {},
   "outputs": [],
   "source": [
    "encdata.drop_duplicates(subset='Id_ENC', keep='first')[\"AGE@ENC\"].plot.hist(bins=50)"
   ]
  },
  {
   "cell_type": "code",
   "execution_count": null,
   "id": "electoral-budget",
   "metadata": {},
   "outputs": [],
   "source": [
    "encdata.drop_duplicates(subset='Id_ENC', keep='first')[\"RACE\"].value_counts().plot.bar()"
   ]
  },
  {
   "cell_type": "code",
   "execution_count": null,
   "id": "incredible-resistance",
   "metadata": {},
   "outputs": [],
   "source": [
    "encdata.drop_duplicates(subset='Id_ENC', keep='first')[\"GENDER\"].value_counts().plot.bar()"
   ]
  },
  {
   "cell_type": "code",
   "execution_count": null,
   "id": "heard-watts",
   "metadata": {},
   "outputs": [],
   "source": [
    "encdata.head(50)"
   ]
  },
  {
   "cell_type": "markdown",
   "id": "objective-occasions",
   "metadata": {},
   "source": [
    "### How many encounters do we have?"
   ]
  },
  {
   "cell_type": "code",
   "execution_count": null,
   "id": "approximate-antenna",
   "metadata": {},
   "outputs": [],
   "source": [
    "len(encdata['Id_ENC'].unique())"
   ]
  },
  {
   "cell_type": "code",
   "execution_count": null,
   "id": "electronic-scout",
   "metadata": {},
   "outputs": [],
   "source": [
    "len(encdata['PATIENT'].unique())"
   ]
  },
  {
   "cell_type": "markdown",
   "id": "inappropriate-albert",
   "metadata": {},
   "source": [
    "### Select BMI Data"
   ]
  },
  {
   "cell_type": "code",
   "execution_count": null,
   "id": "provincial-notebook",
   "metadata": {},
   "outputs": [],
   "source": [
    "bmi=encdata[encdata['DESCRIPTION_OBS']=='Body Mass Index']"
   ]
  },
  {
   "cell_type": "code",
   "execution_count": null,
   "id": "spatial-occurrence",
   "metadata": {},
   "outputs": [],
   "source": [
    "bmi.head(20)"
   ]
  },
  {
   "cell_type": "code",
   "execution_count": null,
   "id": "magnetic-deviation",
   "metadata": {},
   "outputs": [],
   "source": [
    "bmi = bmi.drop_duplicates(subset='Id_ENC', keep='first')\n",
    "bmi.shape"
   ]
  },
  {
   "cell_type": "markdown",
   "id": "brief-gamma",
   "metadata": {},
   "source": [
    "## Filter based on our alert"
   ]
  },
  {
   "cell_type": "code",
   "execution_count": null,
   "id": "amber-motor",
   "metadata": {},
   "outputs": [],
   "source": [
    "alerts = bmi[(bmi[\"AGE@ENC\"]>45 ) | (bmi[\"VALUENUMERIC\"]>25)]\n",
    "alerts"
   ]
  },
  {
   "cell_type": "code",
   "execution_count": null,
   "id": "coated-defeat",
   "metadata": {},
   "outputs": [],
   "source": [
    "alerts.shape"
   ]
  },
  {
   "cell_type": "markdown",
   "id": "american-cyprus",
   "metadata": {},
   "source": [
    "## What Percentage of the Encounters Generate Our Alert?"
   ]
  },
  {
   "cell_type": "code",
   "execution_count": null,
   "id": "located-muslim",
   "metadata": {},
   "outputs": [],
   "source": []
  },
  {
   "cell_type": "code",
   "execution_count": null,
   "id": "celtic-narrative",
   "metadata": {},
   "outputs": [],
   "source": [
    "alerts.shape[0]/bmi.shape[0]"
   ]
  },
  {
   "cell_type": "markdown",
   "id": "monthly-manchester",
   "metadata": {},
   "source": [
    "### How Many Unique Patients Did We Generate an Alert for?"
   ]
  },
  {
   "cell_type": "code",
   "execution_count": null,
   "id": "trained-installation",
   "metadata": {},
   "outputs": [],
   "source": [
    "len(alerts[\"PATIENT\"].unique())"
   ]
  },
  {
   "cell_type": "markdown",
   "id": "9fa9b7f9",
   "metadata": {},
   "source": [
    "## Additional data we could filter on"
   ]
  },
  {
   "cell_type": "markdown",
   "id": "f41afb2a",
   "metadata": {},
   "source": [
    "### What are our conditions?"
   ]
  },
  {
   "cell_type": "code",
   "execution_count": null,
   "id": "77563db5",
   "metadata": {},
   "outputs": [],
   "source": [
    "for d in encdata[\"DESCRIPTION_CON\"].dropna().unique():\n",
    "    print(d)"
   ]
  },
  {
   "cell_type": "markdown",
   "id": "b6e9b96d",
   "metadata": {},
   "source": [
    "### Diabetes conditions"
   ]
  },
  {
   "cell_type": "code",
   "execution_count": null,
   "id": "practical-nutrition",
   "metadata": {},
   "outputs": [],
   "source": [
    "for d in encdata[\"DESCRIPTION_CON\"].dropna().unique():\n",
    "    if 'diabetes' in d.lower():\n",
    "        print(d)"
   ]
  },
  {
   "cell_type": "markdown",
   "id": "070d332d",
   "metadata": {},
   "source": [
    "### What are our observations?"
   ]
  },
  {
   "cell_type": "code",
   "execution_count": null,
   "id": "476c9172",
   "metadata": {},
   "outputs": [],
   "source": [
    "for o in encdata[\"DESCRIPTION_OBS\"].dropna().unique():\n",
    "    print(o)"
   ]
  },
  {
   "cell_type": "markdown",
   "id": "6bb38fd3",
   "metadata": {},
   "source": [
    "### What are our medications?"
   ]
  },
  {
   "cell_type": "code",
   "execution_count": null,
   "id": "4c9039e2",
   "metadata": {},
   "outputs": [],
   "source": [
    "for m in encdata[\"DESCRIPTION_MED\"].dropna().unique():\n",
    "    print(m)"
   ]
  },
  {
   "cell_type": "code",
   "execution_count": null,
   "id": "e0e80307",
   "metadata": {},
   "outputs": [],
   "source": [
    "for m in encdata[\"DESCRIPTION_MED\"].dropna().unique():\n",
    "    if 'insul' in m.lower():\n",
    "        print(m)"
   ]
  },
  {
   "cell_type": "code",
   "execution_count": null,
   "id": "7b2ebde8",
   "metadata": {},
   "outputs": [],
   "source": []
  }
 ],
 "metadata": {
  "@webio": {
   "lastCommId": null,
   "lastKernelId": null
  },
  "kernelspec": {
   "display_name": "Python 3",
   "language": "python",
   "name": "python3"
  },
  "language_info": {
   "codemirror_mode": {
    "name": "ipython",
    "version": 3
   },
   "file_extension": ".py",
   "mimetype": "text/x-python",
   "name": "python",
   "nbconvert_exporter": "python",
   "pygments_lexer": "ipython3",
   "version": "3.8.2"
  }
 },
 "nbformat": 4,
 "nbformat_minor": 5
}
