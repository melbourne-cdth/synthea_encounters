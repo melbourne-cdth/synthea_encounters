{
 "cells": [
  {
   "cell_type": "code",
   "execution_count": null,
   "id": "original-picnic",
   "metadata": {},
   "outputs": [],
   "source": [
    "import pandas as pd\n"
   ]
  },
  {
   "cell_type": "code",
   "execution_count": null,
   "id": "civic-miracle",
   "metadata": {},
   "outputs": [],
   "source": [
    "encdata = pd.read_csv(\"encounters.csv.gz\")"
   ]
  },
  {
   "cell_type": "code",
   "execution_count": null,
   "id": "bottom-lighter",
   "metadata": {},
   "outputs": [],
   "source": [
    "encdata[\"AGE@ENC\"].plot.hist(bins=50)"
   ]
  },
  {
   "cell_type": "code",
   "execution_count": null,
   "id": "coordinate-conditions",
   "metadata": {},
   "outputs": [],
   "source": [
    "encdata.shape"
   ]
  },
  {
   "cell_type": "code",
   "execution_count": null,
   "id": "heard-watts",
   "metadata": {},
   "outputs": [],
   "source": [
    "encdata.head()"
   ]
  },
  {
   "cell_type": "markdown",
   "id": "objective-occasions",
   "metadata": {},
   "source": [
    "### How many encounters do we have?"
   ]
  },
  {
   "cell_type": "code",
   "execution_count": null,
   "id": "approximate-antenna",
   "metadata": {},
   "outputs": [],
   "source": [
    "len(encdata['Id_enc'].unique())"
   ]
  },
  {
   "cell_type": "code",
   "execution_count": null,
   "id": "electronic-scout",
   "metadata": {},
   "outputs": [],
   "source": [
    "len(encdata['PATIENT'].unique())"
   ]
  },
  {
   "cell_type": "markdown",
   "id": "inappropriate-albert",
   "metadata": {},
   "source": [
    "### Select BMI Data"
   ]
  },
  {
   "cell_type": "code",
   "execution_count": null,
   "id": "provincial-notebook",
   "metadata": {},
   "outputs": [],
   "source": [
    "bmi=encdata[encdata['DESCRIPTION_obs']=='Body Mass Index']"
   ]
  },
  {
   "cell_type": "code",
   "execution_count": null,
   "id": "spatial-occurrence",
   "metadata": {},
   "outputs": [],
   "source": [
    "bmi.shape"
   ]
  },
  {
   "cell_type": "code",
   "execution_count": null,
   "id": "magnetic-deviation",
   "metadata": {},
   "outputs": [],
   "source": [
    "bmi = bmi.drop_duplicates(subset='Id_enc', keep='first')\n",
    "bmi.shape"
   ]
  },
  {
   "cell_type": "markdown",
   "id": "brief-gamma",
   "metadata": {},
   "source": [
    "## Filter based on our alert"
   ]
  },
  {
   "cell_type": "code",
   "execution_count": null,
   "id": "amber-motor",
   "metadata": {},
   "outputs": [],
   "source": [
    "alerts = bmi[(bmi[\"AGE@ENC\"]>45 ) | (bmi[\"NUMVALUE\"]>25)]\n",
    "alerts"
   ]
  },
  {
   "cell_type": "code",
   "execution_count": null,
   "id": "coated-defeat",
   "metadata": {},
   "outputs": [],
   "source": [
    "alerts.shape"
   ]
  },
  {
   "cell_type": "markdown",
   "id": "american-cyprus",
   "metadata": {},
   "source": [
    "## What Percentage of Our Encounters Generate Our Alert?"
   ]
  },
  {
   "cell_type": "code",
   "execution_count": null,
   "id": "celtic-narrative",
   "metadata": {},
   "outputs": [],
   "source": [
    "alerts.shape[0]/bmi.shape[0]"
   ]
  },
  {
   "cell_type": "markdown",
   "id": "monthly-manchester",
   "metadata": {},
   "source": [
    "### How Many Unique Patients Did We Generate an Alert for?"
   ]
  },
  {
   "cell_type": "code",
   "execution_count": null,
   "id": "trained-installation",
   "metadata": {},
   "outputs": [],
   "source": [
    "len(alerts[\"PATIENT\"].unique())"
   ]
  },
  {
   "cell_type": "code",
   "execution_count": null,
   "id": "practical-nutrition",
   "metadata": {},
   "outputs": [],
   "source": []
  }
 ],
 "metadata": {
  "kernelspec": {
   "display_name": "Python (mimic3)",
   "language": "python",
   "name": "mimic3"
  },
  "language_info": {
   "codemirror_mode": {
    "name": "ipython",
    "version": 3
   },
   "file_extension": ".py",
   "mimetype": "text/x-python",
   "name": "python",
   "nbconvert_exporter": "python",
   "pygments_lexer": "ipython3",
   "version": "3.7.8"
  }
 },
 "nbformat": 4,
 "nbformat_minor": 5
}
